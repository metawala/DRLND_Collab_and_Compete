{
 "cells": [
  {
   "cell_type": "markdown",
   "metadata": {},
   "source": [
    "# Collaboration and Competition\n",
    "\n",
    "---\n",
    "\n",
    "In this notebook, you will learn how to use the Unity ML-Agents environment for the third project of the [Deep Reinforcement Learning Nanodegree](https://www.udacity.com/course/deep-reinforcement-learning-nanodegree--nd893) program.\n",
    "\n",
    "### 1. Start the Environment\n",
    "\n",
    "We begin by importing the necessary packages.  If the code cell below returns an error, please revisit the project instructions to double-check that you have installed [Unity ML-Agents](https://github.com/Unity-Technologies/ml-agents/blob/master/docs/Installation.md) and [NumPy](http://www.numpy.org/)."
   ]
  },
  {
   "cell_type": "code",
   "execution_count": 1,
   "metadata": {},
   "outputs": [],
   "source": [
    "from unityagents import UnityEnvironment\n",
    "import numpy as np\n",
    "import torch\n",
    "from collections import deque\n",
    "\n",
    "import matplotlib.pyplot as plt\n",
    "%matplotlib inline\n",
    "\n",
    "from AgentModel.ddpgAgent import Agent"
   ]
  },
  {
   "cell_type": "markdown",
   "metadata": {},
   "source": [
    "Next, we will start the environment!  **_Before running the code cell below_**, change the `file_name` parameter to match the location of the Unity environment that you downloaded.\n",
    "\n",
    "- **Mac**: `\"path/to/Tennis.app\"`\n",
    "- **Windows** (x86): `\"path/to/Tennis_Windows_x86/Tennis.exe\"`\n",
    "- **Windows** (x86_64): `\"path/to/Tennis_Windows_x86_64/Tennis.exe\"`\n",
    "- **Linux** (x86): `\"path/to/Tennis_Linux/Tennis.x86\"`\n",
    "- **Linux** (x86_64): `\"path/to/Tennis_Linux/Tennis.x86_64\"`\n",
    "- **Linux** (x86, headless): `\"path/to/Tennis_Linux_NoVis/Tennis.x86\"`\n",
    "- **Linux** (x86_64, headless): `\"path/to/Tennis_Linux_NoVis/Tennis.x86_64\"`\n",
    "\n",
    "For instance, if you are using a Mac, then you downloaded `Tennis.app`.  If this file is in the same folder as the notebook, then the line below should appear as follows:\n",
    "```\n",
    "env = UnityEnvironment(file_name=\"Tennis.app\")\n",
    "```"
   ]
  },
  {
   "cell_type": "code",
   "execution_count": 2,
   "metadata": {},
   "outputs": [
    {
     "name": "stderr",
     "output_type": "stream",
     "text": [
      "INFO:unityagents:\n",
      "'Academy' started successfully!\n",
      "Unity Academy name: Academy\n",
      "        Number of Brains: 1\n",
      "        Number of External Brains : 1\n",
      "        Lesson number : 0\n",
      "        Reset Parameters :\n",
      "\t\t\n",
      "Unity brain name: TennisBrain\n",
      "        Number of Visual Observations (per agent): 0\n",
      "        Vector Observation space type: continuous\n",
      "        Vector Observation space size (per agent): 8\n",
      "        Number of stacked Vector Observation: 3\n",
      "        Vector Action space type: continuous\n",
      "        Vector Action space size (per agent): 2\n",
      "        Vector Action descriptions: , \n"
     ]
    }
   ],
   "source": [
    "env = UnityEnvironment(file_name=\"./Tennis_Linux/Tennis.x86_64\", worker_id=1, seed=2)"
   ]
  },
  {
   "cell_type": "markdown",
   "metadata": {},
   "source": [
    "Environments contain **_brains_** which are responsible for deciding the actions of their associated agents. Here we check for the first brain available, and set it as the default brain we will be controlling from Python."
   ]
  },
  {
   "cell_type": "code",
   "execution_count": 3,
   "metadata": {},
   "outputs": [],
   "source": [
    "# get the default brain\n",
    "brain_name = env.brain_names[0]\n",
    "brain = env.brains[brain_name]"
   ]
  },
  {
   "cell_type": "markdown",
   "metadata": {},
   "source": [
    "### 2. Examine the State and Action Spaces\n",
    "\n",
    "In this environment, two agents control rackets to bounce a ball over a net. If an agent hits the ball over the net, it receives a reward of +0.1.  If an agent lets a ball hit the ground or hits the ball out of bounds, it receives a reward of -0.01.  Thus, the goal of each agent is to keep the ball in play.\n",
    "\n",
    "The observation space consists of 8 variables corresponding to the position and velocity of the ball and racket. Two continuous actions are available, corresponding to movement toward (or away from) the net, and jumping. \n",
    "\n",
    "Run the code cell below to print some information about the environment."
   ]
  },
  {
   "cell_type": "code",
   "execution_count": 4,
   "metadata": {},
   "outputs": [
    {
     "name": "stdout",
     "output_type": "stream",
     "text": [
      "Number of agents: 2\n",
      "Size of each action: 2\n",
      "There are 2 agents. Each observes a state with length: 24\n",
      "The state for the first agent looks like: [ 0.          0.          0.          0.          0.          0.\n",
      "  0.          0.          0.          0.          0.          0.\n",
      "  0.          0.          0.          0.         -6.29742813 -1.5\n",
      " -0.          0.          7.17024279  6.         -0.          0.        ]\n"
     ]
    }
   ],
   "source": [
    "# reset the environment\n",
    "envInfo = env.reset(train_mode=True)[brain_name]\n",
    "\n",
    "# number of agents \n",
    "num_agents = len(envInfo.agents)\n",
    "print('Number of agents:', num_agents)\n",
    "\n",
    "# size of each action\n",
    "actionSize = brain.vector_action_space_size\n",
    "print('Size of each action:', actionSize)\n",
    "\n",
    "# examine the state space \n",
    "states = envInfo.vector_observations\n",
    "stateSize = states.shape[1]\n",
    "print('There are {} agents. Each observes a state with length: {}'.format(states.shape[0], stateSize))\n",
    "print('The state for the first agent looks like:', states[0])"
   ]
  },
  {
   "cell_type": "markdown",
   "metadata": {},
   "source": [
    "### 3. Take Random Actions in the Environment\n",
    "\n",
    "In the next code cell, you will learn how to use the Python API to control the agents and receive feedback from the environment.\n",
    "\n",
    "Once this cell is executed, you will watch the agents' performance, if they select actions at random with each time step.  A window should pop up that allows you to observe the agents.\n",
    "\n",
    "Of course, as part of the project, you'll have to change the code so that the agents are able to use their experiences to gradually choose better actions when interacting with the environment!"
   ]
  },
  {
   "cell_type": "code",
   "execution_count": 5,
   "metadata": {},
   "outputs": [
    {
     "name": "stdout",
     "output_type": "stream",
     "text": [
      "Score (max over agents) from episode 1: 0.0\n",
      "Score (max over agents) from episode 2: 0.0\n",
      "Score (max over agents) from episode 3: 0.0\n",
      "Score (max over agents) from episode 4: 0.0\n",
      "Score (max over agents) from episode 5: 0.0\n"
     ]
    }
   ],
   "source": [
    "for i in range(1, 6):                                      # play game for 5 episodes\n",
    "    envInfo = env.reset(train_mode=False)[brain_name]     # reset the environment    \n",
    "    states = envInfo.vector_observations                  # get the current state (for each agent)\n",
    "    scores = np.zeros(num_agents)                          # initialize the score (for each agent)\n",
    "    while True:\n",
    "        actions = np.random.randn(num_agents, actionSize) # select an action (for each agent)\n",
    "        actions = np.clip(actions, -1, 1)                  # all actions between -1 and 1\n",
    "        envInfo = env.step(actions)[brain_name]           # send all actions to tne environment\n",
    "        nextStates = envInfo.vector_observations         # get next state (for each agent)\n",
    "        rewards = envInfo.rewards                         # get reward (for each agent)\n",
    "        dones = envInfo.local_done                        # see if episode finished\n",
    "        scores += envInfo.rewards                         # update the score (for each agent)\n",
    "        states = nextStates                               # roll over states to next time step\n",
    "        if np.any(dones):                                  # exit loop if episode finished\n",
    "            break\n",
    "    print('Score (max over agents) from episode {}: {}'.format(i, np.max(scores)))\n"
   ]
  },
  {
   "cell_type": "markdown",
   "metadata": {},
   "source": [
    "When finished, you can close the environment."
   ]
  },
  {
   "cell_type": "code",
   "execution_count": 6,
   "metadata": {},
   "outputs": [],
   "source": [
    "#env.close()"
   ]
  },
  {
   "cell_type": "markdown",
   "metadata": {},
   "source": [
    "### 4. It's Your Turn!\n",
    "\n",
    "Now it's your turn to train your own agent to solve the environment!  When training the environment, set `train_mode=True`, so that the line for resetting the environment looks like the following:\n",
    "```python\n",
    "env_info = env.reset(train_mode=True)[brain_name]\n",
    "```"
   ]
  },
  {
   "cell_type": "code",
   "execution_count": 7,
   "metadata": {},
   "outputs": [],
   "source": [
    "def ddpg(numEps=3000, maxT=1000):\n",
    "    agent  = Agent(stateSize, actionSize, randomSeed = 2)\n",
    "    NUMSTEPSTOUPDATE = 10 # Update agent after n steps\n",
    "\n",
    "    avgScore    = []\n",
    "    chkptEps    = 100\n",
    "    scoresDeque = deque(maxlen=100)\n",
    "    timeSteps   = 20\n",
    "    numUpdates  = 10\n",
    "    lenAgents   = len(str(num_agents))\n",
    "    \n",
    "    envSolve = False\n",
    "        \n",
    "    agentKwargs = {\"stateSize\": stateSize, \"actionSize\": actionSize, \"randomSeed\": 2,}\n",
    "    agents = [Agent(**agentKwargs) for _ in range(num_agents)]\n",
    "    assert len(agents) == num_agents\n",
    "\n",
    "    \n",
    "    for currentEp in range(1, numEps+1):\n",
    "        scores = np.zeros(num_agents)\n",
    "        envInfo = env.reset(train_mode=True)[brain_name]\n",
    "        states = envInfo.vector_observations                  # get the current state (for each agent)\n",
    "        agent.reset()\n",
    "        \n",
    "        for t in range(maxT):\n",
    "            actions = agent.act(states)\n",
    "            \n",
    "            envInfo = env.step(actions)[brain_name]\n",
    "            nextStates = envInfo.vector_observations         # get next state (for each agent)\n",
    "            rewards = envInfo.rewards                         # get reward (for each agent)\n",
    "            dones = envInfo.local_done                        # see if episode finished\n",
    "            agent.saveExpInBuffer(states, actions, rewards, nextStates, dones)\n",
    "\n",
    "            if t%NUMSTEPSTOUPDATE == 0:\n",
    "                    agent.step(states, actions, rewards, nextStates, dones)\n",
    "            states  = nextStates\n",
    "            scores += rewards                                  # update the score (for each agent)\n",
    "            if np.any(dones):                                  # exit loop if episode finished\n",
    "                break\n",
    "                \n",
    "        score = np.max(scores)        \n",
    "        avgScore.append(score)\n",
    "        scoresDeque.append(score)\n",
    "\n",
    "        avg = np.average(scoresDeque)\n",
    "            \n",
    "            \n",
    "        print('\\rEpisode {}\\tEpisode Score: {:.2f}\\tAverage Score: {:.2f} \\tTotal Score: {:.2f}'.format(currentEp, score, avg, np.sum(scoresDeque)), end=\"\")\n",
    "        \n",
    "        if currentEp % chkptEps == 0:\n",
    "            print('\\rEpisode {}\\tEpisode Score: {:.2f}\\tAverage Score: {:.2f} \\tTotal Score: {:.2f}'.format(currentEp, score, avg, np.sum(scoresDeque)))\n",
    "\n",
    "            for idx, agent in enumerate(agents):\n",
    "                chkpt_path_actor = \"weights/actor_\" + str(idx).zfill(lenAgents)+\"_\"+str(currentEp)+\".pth\"\n",
    "                torch.save(agent.actorLocal.state_dict(), chkpt_path_actor)\n",
    "\n",
    "                chkpt_path_critic = \"weights/critic_\" + str(idx).zfill(lenAgents) +\"_\"+str(currentEp)+\".pth\"\n",
    "                torch.save(agent.criticLocal.state_dict(), chkpt_path_critic)    \n",
    "\n",
    "        if not envSolve and avg >= 0.5:\n",
    "            print(\"\\r\\renvironment is solved in {i_episode} episodes, with average score of {avg:.2f}\\r\".format(i_episode=currentEp, avg=avg))\n",
    "            envSolve = True\n",
    "            for idx, agent in enumerate(agents):\n",
    "                checkpointPathActor = \"actor_\" + str(idx).zfill(lenAgents) + \"_solved.pth\"\n",
    "                torch.save(agent.actorLocal.state_dict(), checkpointPathActor)\n",
    "\n",
    "                checkpointPathCritic = \"critic_\" + str(idx).zfill(lenAgents) + \"_solved.pth\"\n",
    "                torch.save(agent.criticLocal.state_dict(), checkpointPathCritic)\n",
    "            break\n",
    "            \n",
    "    return avgScore\n"
   ]
  },
  {
   "cell_type": "code",
   "execution_count": 8,
   "metadata": {},
   "outputs": [
    {
     "name": "stdout",
     "output_type": "stream",
     "text": [
      "Episode 100\tEpisode Score: 0.00\tAverage Score: 0.00 \tTotal Score: 0.10\n",
      "Episode 200\tEpisode Score: 0.10\tAverage Score: 0.00 \tTotal Score: 0.40\n",
      "Episode 300\tEpisode Score: 0.00\tAverage Score: 0.02 \tTotal Score: 2.48\n",
      "Episode 400\tEpisode Score: 0.00\tAverage Score: 0.02 \tTotal Score: 2.13\n",
      "Episode 500\tEpisode Score: 0.09\tAverage Score: 0.06 \tTotal Score: 5.69\n",
      "Episode 600\tEpisode Score: 0.09\tAverage Score: 0.08 \tTotal Score: 8.36\n",
      "Episode 700\tEpisode Score: 0.10\tAverage Score: 0.09 \tTotal Score: 8.61\n",
      "Episode 800\tEpisode Score: 0.19\tAverage Score: 0.23 \tTotal Score: 23.03\n",
      "Episode 900\tEpisode Score: 0.20\tAverage Score: 0.41 \tTotal Score: 41.27\n",
      "Episode 1000\tEpisode Score: 0.10\tAverage Score: 0.33 \tTotal Score: 33.44\n",
      "environment is solved in 1027 episodes, with average score of 0.50 50.22\n"
     ]
    }
   ],
   "source": [
    "scores = ddpg()"
   ]
  },
  {
   "cell_type": "code",
   "execution_count": 9,
   "metadata": {},
   "outputs": [
    {
     "data": {
      "image/png": "[encoded data removed]",
      "text/plain": [
       "<Figure size 864x576 with 1 Axes>"
      ]
     },
     "metadata": {
      "needs_background": "light"
     },
     "output_type": "display_data"
    }
   ],
   "source": [
    "# Plot\n",
    "fig, ax = plt.subplots(1, 1, figsize = [12, 8])\n",
    "ax.plot(scores, \"-\", c = \"red\", alpha = 0.5)\n",
    "ax.set_xlabel(\"Episode\")\n",
    "ax.set_ylabel(\"Score\")\n",
    "ax.grid(which=\"major\")\n",
    "\n",
    "fig.tight_layout()\n",
    "fig.savefig(\"scoresPlot.jpg\")"
   ]
  },
  {
   "cell_type": "code",
   "execution_count": null,
   "metadata": {},
   "outputs": [],
   "source": []
  }
 ],
 "metadata": {
  "kernelspec": {
   "display_name": "Python 3",
   "language": "python",
   "name": "python3"
  },
  "language_info": {
   "codemirror_mode": {
    "name": "ipython",
    "version": 3
   },
   "file_extension": ".py",
   "mimetype": "text/x-python",
   "name": "python",
   "nbconvert_exporter": "python",
   "pygments_lexer": "ipython3",
   "version": "3.6.13"
  }
 },
 "nbformat": 4,
 "nbformat_minor": 2
}
